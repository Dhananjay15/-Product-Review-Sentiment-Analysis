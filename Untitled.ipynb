{
 "cells": [
  {
   "cell_type": "code",
   "execution_count": 22,
   "id": "40f9abd2-b0a5-4fed-995a-4df295911f87",
   "metadata": {},
   "outputs": [
    {
     "name": "stderr",
     "output_type": "stream",
     "text": [
      "[nltk_data] Downloading package wordnet to C:\\Users\\MSIL\n",
      "[nltk_data]     !\\AppData\\Roaming\\nltk_data...\n",
      "[nltk_data]   Package wordnet is already up-to-date!\n",
      "[nltk_data] Downloading package omw-1.4 to C:\\Users\\MSIL\n",
      "[nltk_data]     !\\AppData\\Roaming\\nltk_data...\n",
      "[nltk_data]   Package omw-1.4 is already up-to-date!\n"
     ]
    }
   ],
   "source": [
    "import pandas as pd\n",
    "import re\n",
    "import nltk\n",
    "from nltk.stem import WordNetLemmatizer\n",
    "lemmatizer = WordNetLemmatizer()\n",
    "nltk.download('wordnet')\n",
    "nltk.download('omw-1.4')\n",
    "from nltk.corpus import stopwords\n",
    "from sklearn.feature_extraction.text import TfidfVectorizer\n",
    "from sklearn import metrics"
   ]
  },
  {
   "cell_type": "code",
   "execution_count": 4,
   "id": "e048f091-9dc9-440a-8ef0-8045eee3828c",
   "metadata": {},
   "outputs": [
    {
     "data": {
      "text/html": [
       "<div>\n",
       "<style scoped>\n",
       "    .dataframe tbody tr th:only-of-type {\n",
       "        vertical-align: middle;\n",
       "    }\n",
       "\n",
       "    .dataframe tbody tr th {\n",
       "        vertical-align: top;\n",
       "    }\n",
       "\n",
       "    .dataframe thead th {\n",
       "        text-align: right;\n",
       "    }\n",
       "</style>\n",
       "<table border=\"1\" class=\"dataframe\">\n",
       "  <thead>\n",
       "    <tr style=\"text-align: right;\">\n",
       "      <th></th>\n",
       "      <th>Review</th>\n",
       "      <th>Sentiment</th>\n",
       "    </tr>\n",
       "  </thead>\n",
       "  <tbody>\n",
       "    <tr>\n",
       "      <th>0</th>\n",
       "      <td>Fast shipping but this product is very cheaply...</td>\n",
       "      <td>1</td>\n",
       "    </tr>\n",
       "    <tr>\n",
       "      <th>1</th>\n",
       "      <td>This case takes so long to ship and it's not e...</td>\n",
       "      <td>1</td>\n",
       "    </tr>\n",
       "    <tr>\n",
       "      <th>2</th>\n",
       "      <td>Good for not droids. Not good for iPhones. You...</td>\n",
       "      <td>1</td>\n",
       "    </tr>\n",
       "    <tr>\n",
       "      <th>3</th>\n",
       "      <td>The cable was not compatible between my macboo...</td>\n",
       "      <td>1</td>\n",
       "    </tr>\n",
       "    <tr>\n",
       "      <th>4</th>\n",
       "      <td>The case is nice but did not have a glow light...</td>\n",
       "      <td>1</td>\n",
       "    </tr>\n",
       "  </tbody>\n",
       "</table>\n",
       "</div>"
      ],
      "text/plain": [
       "                                              Review  Sentiment\n",
       "0  Fast shipping but this product is very cheaply...          1\n",
       "1  This case takes so long to ship and it's not e...          1\n",
       "2  Good for not droids. Not good for iPhones. You...          1\n",
       "3  The cable was not compatible between my macboo...          1\n",
       "4  The case is nice but did not have a glow light...          1"
      ]
     },
     "execution_count": 4,
     "metadata": {},
     "output_type": "execute_result"
    }
   ],
   "source": [
    "df = pd.read_csv('./AmazonReview.csv')\n",
    "df.head(5)"
   ]
  },
  {
   "cell_type": "code",
   "execution_count": 5,
   "id": "7d49810d-6543-40e9-8178-6661f9211191",
   "metadata": {},
   "outputs": [
    {
     "data": {
      "text/plain": [
       "(25000, 2)"
      ]
     },
     "execution_count": 5,
     "metadata": {},
     "output_type": "execute_result"
    }
   ],
   "source": [
    "df.shape"
   ]
  },
  {
   "cell_type": "code",
   "execution_count": 6,
   "id": "152c9138-80fe-4b87-83f0-5ed7f582753d",
   "metadata": {},
   "outputs": [
    {
     "data": {
      "text/plain": [
       "Review       1\n",
       "Sentiment    0\n",
       "dtype: int64"
      ]
     },
     "execution_count": 6,
     "metadata": {},
     "output_type": "execute_result"
    }
   ],
   "source": [
    "df.isnull().sum()"
   ]
  },
  {
   "cell_type": "code",
   "execution_count": 7,
   "id": "19cc9c45-befb-4c7d-9fd4-6ceceb422847",
   "metadata": {},
   "outputs": [],
   "source": [
    "df.dropna(inplace=True)"
   ]
  },
  {
   "cell_type": "code",
   "execution_count": 8,
   "id": "3f211d77-f153-40b5-8445-86ef53c26efb",
   "metadata": {},
   "outputs": [
    {
     "data": {
      "text/plain": [
       "(24999, 2)"
      ]
     },
     "execution_count": 8,
     "metadata": {},
     "output_type": "execute_result"
    }
   ],
   "source": [
    "df.shape"
   ]
  },
  {
   "cell_type": "code",
   "execution_count": 9,
   "id": "64a6828d-b914-4298-a516-863942adcd82",
   "metadata": {},
   "outputs": [
    {
     "data": {
      "text/plain": [
       "188"
      ]
     },
     "execution_count": 9,
     "metadata": {},
     "output_type": "execute_result"
    }
   ],
   "source": [
    "df.duplicated().sum()"
   ]
  },
  {
   "cell_type": "code",
   "execution_count": 10,
   "id": "0460f601-29ce-4657-99b0-5d02897c691e",
   "metadata": {},
   "outputs": [],
   "source": [
    "df.drop_duplicates(inplace=True)"
   ]
  },
  {
   "cell_type": "code",
   "execution_count": 11,
   "id": "2c52acef-977a-4f33-9d6d-ac30eb3a36f3",
   "metadata": {},
   "outputs": [
    {
     "data": {
      "text/plain": [
       "(24811, 2)"
      ]
     },
     "execution_count": 11,
     "metadata": {},
     "output_type": "execute_result"
    }
   ],
   "source": [
    "df.shape"
   ]
  },
  {
   "cell_type": "code",
   "execution_count": 12,
   "id": "854f43ef-9375-480c-b60c-a488584974e1",
   "metadata": {},
   "outputs": [
    {
     "data": {
      "text/plain": [
       "2    4990\n",
       "1    4984\n",
       "3    4966\n",
       "4    4960\n",
       "5    4911\n",
       "Name: Sentiment, dtype: int64"
      ]
     },
     "execution_count": 12,
     "metadata": {},
     "output_type": "execute_result"
    }
   ],
   "source": [
    "df['Sentiment'].value_counts()"
   ]
  },
  {
   "cell_type": "code",
   "execution_count": 13,
   "id": "4f14817a-b8ad-4e4e-8a18-afd2701430a1",
   "metadata": {},
   "outputs": [],
   "source": [
    "df.loc[df['Sentiment']<3,'Sentiment'] = 0\n",
    "df.loc[df['Sentiment']>=3,'Sentiment'] = 1"
   ]
  },
  {
   "cell_type": "code",
   "execution_count": 14,
   "id": "b17ac2c1-d20f-426b-a6c8-8e9d1b43cf30",
   "metadata": {},
   "outputs": [
    {
     "data": {
      "text/plain": [
       "1    14837\n",
       "0     9974\n",
       "Name: Sentiment, dtype: int64"
      ]
     },
     "execution_count": 14,
     "metadata": {},
     "output_type": "execute_result"
    }
   ],
   "source": [
    "df['Sentiment'].value_counts()"
   ]
  },
  {
   "cell_type": "code",
   "execution_count": 15,
   "id": "a590ae43-fe50-4062-a5d1-d4e0fa89dea1",
   "metadata": {},
   "outputs": [],
   "source": [
    "stp_words=stopwords.words('english')\n",
    "def clean_review(review):\n",
    "    review = re.sub(\"[^a-zA-Z]\",\" \",review)\n",
    "    review = review.lower()\n",
    "    cleanreview=\" \".join(lemmatizer.lemmatize(word) for word in review.split() if word not in stp_words)\n",
    "    return cleanreview\n",
    " \n",
    "df['Review']=df['Review'].apply(clean_review)"
   ]
  },
  {
   "cell_type": "code",
   "execution_count": 16,
   "id": "0c0cf9e1-f12d-41f7-8aa8-9adf38faf32e",
   "metadata": {},
   "outputs": [],
   "source": [
    "cv = TfidfVectorizer(max_features=2500)\n",
    "X = cv.fit_transform(df['Review'] ).toarray()"
   ]
  },
  {
   "cell_type": "code",
   "execution_count": 41,
   "id": "64f796bf-ea0d-40d9-acf0-21d681b65dde",
   "metadata": {},
   "outputs": [],
   "source": [
    "from sklearn.model_selection import train_test_split\n",
    "x_train ,x_test,y_train,y_test=train_test_split(X,df['Sentiment'],test_size=0.2 ,random_state=32)"
   ]
  },
  {
   "cell_type": "code",
   "execution_count": 42,
   "id": "57025ceb-516a-4ac1-a0b5-b42094a16d32",
   "metadata": {},
   "outputs": [
    {
     "name": "stdout",
     "output_type": "stream",
     "text": [
      "0.8379181781539702\n",
      "0.8011283497884344\n"
     ]
    },
    {
     "data": {
      "text/plain": [
       "<sklearn.metrics._plot.confusion_matrix.ConfusionMatrixDisplay at 0x29bf6a45f70>"
      ]
     },
     "execution_count": 42,
     "metadata": {},
     "output_type": "execute_result"
    },
    {
     "data": {
      "image/png": "[encoded data removed]",
      "text/plain": [
       "<Figure size 640x480 with 2 Axes>"
      ]
     },
     "metadata": {},
     "output_type": "display_data"
    }
   ],
   "source": [
    "from sklearn.linear_model import LogisticRegression\n",
    "model=LogisticRegression()\n",
    "model.fit(x_train,y_train)\n",
    "print(model.score(x_train,y_train))\n",
    "pred=model.predict(x_test)\n",
    "print(metrics.accuracy_score(y_test,pred))\n",
    "cm = metrics.confusion_matrix(y_test,pred)\n",
    "cm_display = metrics.ConfusionMatrixDisplay(confusion_matrix = cm,display_labels = [False, True])\n",
    "cm_display.plot()"
   ]
  },
  {
   "cell_type": "code",
   "execution_count": 43,
   "id": "28f1f283-00a5-433f-96d4-7637897ddfd0",
   "metadata": {},
   "outputs": [
    {
     "name": "stdout",
     "output_type": "stream",
     "text": [
      "0.793782748891576\n",
      "0.773927060245819\n"
     ]
    },
    {
     "data": {
      "text/plain": [
       "<sklearn.metrics._plot.confusion_matrix.ConfusionMatrixDisplay at 0x29bd994ed60>"
      ]
     },
     "execution_count": 43,
     "metadata": {},
     "output_type": "execute_result"
    },
    {
     "data": {
      "image/png": "[encoded data removed]",
      "text/plain": [
       "<Figure size 640x480 with 2 Axes>"
      ]
     },
     "metadata": {},
     "output_type": "display_data"
    }
   ],
   "source": [
    "from sklearn.naive_bayes import MultinomialNB\n",
    "nmodel = MultinomialNB().fit(x_train, y_train)\n",
    "y_pred=nmodel.predict(x_test)\n",
    "cm = metrics.confusion_matrix(y_test, y_pred)\n",
    "print(nmodel.score(x_train,y_train))\n",
    "print(metrics.accuracy_score(y_test, y_pred))\n",
    "cm_display = metrics.ConfusionMatrixDisplay(confusion_matrix = cm,display_labels = [False, True])\n",
    "cm_display.plot()"
   ]
  },
  {
   "cell_type": "code",
   "execution_count": 44,
   "id": "ce8a0f93-1140-4bcd-b940-d81c6af8d513",
   "metadata": {},
   "outputs": [
    {
     "name": "stdout",
     "output_type": "stream",
     "text": [
      "0.7986698911729141\n",
      "0.7646584726979649\n"
     ]
    },
    {
     "data": {
      "text/plain": [
       "<sklearn.metrics._plot.confusion_matrix.ConfusionMatrixDisplay at 0x29bd994e070>"
      ]
     },
     "execution_count": 44,
     "metadata": {},
     "output_type": "execute_result"
    },
    {
     "data": {
      "image/png": "[encoded data removed]",
      "text/plain": [
       "<Figure size 640x480 with 2 Axes>"
      ]
     },
     "metadata": {},
     "output_type": "display_data"
    }
   ],
   "source": [
    "from sklearn.ensemble import RandomForestClassifier\n",
    "rmodel=RandomForestClassifier(n_estimators=50, min_samples_leaf=25,criterion='entropy')\n",
    "rmodel.fit(x_train, y_train)\n",
    "y_pred=rmodel.predict(x_test)\n",
    "cm = metrics.confusion_matrix(y_test, y_pred)\n",
    "print(rmodel.score(x_train,y_train))\n",
    "print(metrics.accuracy_score(y_test, y_pred))\n",
    "cm_display = metrics.ConfusionMatrixDisplay(confusion_matrix = cm,display_labels = [False, True])\n",
    "cm_display.plot()"
   ]
  }
 ],
 "metadata": {
  "kernelspec": {
   "display_name": "Python 3 (ipykernel)",
   "language": "python",
   "name": "python3"
  },
  "language_info": {
   "codemirror_mode": {
    "name": "ipython",
    "version": 3
   },
   "file_extension": ".py",
   "mimetype": "text/x-python",
   "name": "python",
   "nbconvert_exporter": "python",
   "pygments_lexer": "ipython3",
   "version": "3.9.13"
  }
 },
 "nbformat": 4,
 "nbformat_minor": 5
}
